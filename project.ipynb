{
 "cells": [
  {
   "cell_type": "markdown",
   "metadata": {},
   "source": [
    "# Project 2 - Programming for Data Analysis\n",
    "> ## An Analysis of paleo-present climate data\n",
    "\n",
    "To keep this project focused, I am breaking this project into 5 steps based on Faraz Mubeen's article on Medium.com from July 2023. In the ['*6 Steps of any data anlytics project*'](https://medium.com/@farazmubeen902/6-steps-of-any-data-analytics-project-bde8d8072f89), he describes the \"six fundamental steps involved in any data analytics project\". These are:\n",
    "\n",
    "1. **Ask** - *Formulating the right questions*\n",
    "2. **Prepare** - *Collecting and organising relevant data*\n",
    "3. **Process** - *Cleaning and preparing data for analysis*\n",
    "4. **Analyse** - *Uncovering patterns and insights*\n",
    "5. **Share** - *Communicating insights through data visualisations*\n",
    "6. **Act** - *Translating insights into actionable plans*\n",
    "\n",
    "As the \"**Ask**\" has already been set by the assignment, I will be following a modified set of steps - *Prepare*, *Process*, *Analyse*, **Predict** and *Share*. "
   ]
  },
  {
   "cell_type": "markdown",
   "metadata": {},
   "source": [
    "> ### Academic References\n",
    ">\n",
    "> - Mubeen, F. (2023). 6 Steps of any Data Analytics Project. [online] Available at: https://medium.com/@farazmubeen902/6-steps-of-any-data-analytics-project-bde8d8072f89 [Accessed 11 Dec. 2023]. \n",
    ">\n"
   ]
  },
  {
   "cell_type": "markdown",
   "metadata": {},
   "source": [
    "> ### **The Ask**: \n",
    ">\n",
    "> • Analyse CO2 vs Temperature Anomaly from 800kyrs – present.\n",
    ">\n",
    "> • Examine one other (paleo/modern) features (e.g. CH4 or polar ice-coverage)\n",
    ">\n",
    "> • Examine Irish context:\n",
    ">\n",
    "> • Climate change signals: (see Maynooth study: The emergence of a climate change signal in long-term Irish meteorological observations - ScienceDirect)\n",
    ">\n",
    "> • Fuse and analyse data from various data sources and format fused data set as a pandas dataframe and export to csv and json formats\n",
    ">\n",
    "> • For all of the above variables, analyse the data, the trends and the relationships between them (temporal leads/lags/frequency analysis).\n",
    ">\n",
    "> • Predict global temperature anomaly over next few decades (synthesise data) and compare to published climate models if atmospheric CO2 trends continue\n",
    ">\n",
    "> • Comment on accelerated warming based on very latest features (e.g. temperature/polar-icecoverage)\n",
    ">\n",
    ">Use a Jupyter notebook for your analysis and track your progress using GitHub.\n",
    ">\n",
    ">Use an academic referencing style"
   ]
  },
  {
   "cell_type": "markdown",
   "metadata": {},
   "source": [
    "### 1. **Prepare** - *Collecting and organising relevant data*"
   ]
  },
  {
   "cell_type": "markdown",
   "metadata": {},
   "source": []
  }
 ],
 "metadata": {
  "language_info": {
   "name": "python"
  }
 },
 "nbformat": 4,
 "nbformat_minor": 2
}
